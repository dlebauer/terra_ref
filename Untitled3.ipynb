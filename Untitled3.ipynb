{
 "cells": [
  {
   "cell_type": "markdown",
   "metadata": {},
   "source": [
    "# Measures for Prediction Accuracy and Ranking Scores"
   ]
  },
  {
   "cell_type": "markdown",
   "metadata": {},
   "source": [
    "In the presentation given for the Stat 427 Lecture, statements such as, \"Demonstrate predicted values within 20% of ground truth values\". Obviously, the statement of \"20%\" implies that one would be interested in a relative measurement, i.e., a measurement with respect to some overall unit size. For phenotype prediction, it is important to consider the possible values that such phenotypes could take. For this discussion, we note that the phenotypes we are considering are those that are bounded between 0 (the lowest possible value) and $+\\infty$.\n",
    "\n",
    "The recomendation we are making for prediction accuracy of real-valued continuous phenotypes such as terminal biomass, yield, etc, is the so-called relative forward prediction error. We provide some details in the following section, but also give a theoretical discussion in the appendix."
   ]
  },
  {
   "cell_type": "markdown",
   "metadata": {},
   "source": [
    "### Relative Forward Prediction Error:\n",
    "\n",
    "\n",
    "Let $\\mathbf{Y}$ be a vector of a phenotype outcome, and let $\\mathbf{\\hat{Y}}$ be a phenotype prediction. Then define the $(p)$-norm $\\| \\mathbf{x} \\|_p$ for any $n$-vector $\\mathbf{x}$ to be:\n",
    "\n",
    "$$\n",
    "\\| \\mathbf{x} \\|_{p} = \\sum_{k=1}^{n}(|x_{i}|^{p})^{1/p}\n",
    "$$\n",
    "\n",
    "#### For Example :\n",
    "$ \\| \\mathbf{x} \\|_{2} $ is the euclidean distance measure in $\\mathbb{R}^{n}$\n",
    "\n",
    "\n",
    "Then we define the Relative Forward Prediction Error to be:\n",
    "\n",
    "$$\n",
    "RFPE_p = \\frac{\\| \\mathbf{Y} - \\mathbf{\\hat{Y}} \\|_{p}}{\\| \\mathbf{Y} \\|_p} = \\frac{\\sum_{k=1}^{n}(|y_{i} - \\hat{y}_{i}|^{p})^{1/p}}{\\sum_{k=1}^{n}(|y_{i}|^{p})^{1/p}}\n",
    "$$\n",
    "\n",
    "We show several large sample results for properties of $RFPE_p$ in Appendix 1.\n",
    "\n",
    "One particularly important large sample property of the $RFPE_p$ is that as the total effect sample size increases \n",
    "$n\\rightarrow \\infty$, then:\n",
    "\n"
   ]
  },
  {
   "cell_type": "markdown",
   "metadata": {},
   "source": [
    "## Ranking\n",
    "\n",
    "\n",
    "Ranking presents several interesting challenges. We are interested in two primary goals:\n",
    "\n",
    "1. Assigning scores to ranks that are accurate \n",
    "$$\n",
    "DCG_k=\\sum_{i=1}^k\\frac{2^{rel_i}-1}{\\log_2{\\left(i+1\\right)}}\n",
    "$$"
   ]
  },
  {
   "cell_type": "code",
   "execution_count": null,
   "metadata": {
    "collapsed": true
   },
   "outputs": [],
   "source": []
  }
 ],
 "metadata": {
  "kernelspec": {
   "display_name": "R",
   "language": "R",
   "name": "ir"
  },
  "language_info": {
   "codemirror_mode": "r",
   "file_extension": ".r",
   "mimetype": "text/x-r-source",
   "name": "R",
   "pygments_lexer": "r",
   "version": "3.2.2"
  }
 },
 "nbformat": 4,
 "nbformat_minor": 0
}
