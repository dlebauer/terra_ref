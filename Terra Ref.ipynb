{
 "cells": [
  {
   "cell_type": "markdown",
   "metadata": {},
   "source": [
    "# Ideas for TerraRef Consulting Project"
   ]
  },
  {
   "cell_type": "code",
   "execution_count": 15,
   "metadata": {
    "collapsed": false,
    "scrolled": true
   },
   "outputs": [
    {
     "name": "stdout",
     "output_type": "stream",
     "text": [
      "\n",
      "The downloaded source packages are in\n",
      "\t‘/private/var/folders/44/z41l8sf111x6k2bjrjbdjhl80000gn/T/RtmpX0OOGB/downloaded_packages’\n"
     ]
    }
   ],
   "source": [
    "install.packages(c(\"knitr\",\"lubridate\", \"plyr\",\"data.table\"), repos='http://cran.us.r-project.org')"
   ]
  },
  {
   "cell_type": "code",
   "execution_count": 17,
   "metadata": {
    "collapsed": false,
    "scrolled": true
   },
   "outputs": [],
   "source": [
    "setwd(dir = '../')\n"
   ]
  },
  {
   "cell_type": "code",
   "execution_count": 26,
   "metadata": {
    "collapsed": false
   },
   "outputs": [
    {
     "name": "stderr",
     "output_type": "stream",
     "text": [
      "also installing the dependencies ‘assertthat’, ‘R6’, ‘lazyeval’, ‘DBI’, ‘BH’\n",
      "\n"
     ]
    },
    {
     "name": "stdout",
     "output_type": "stream",
     "text": [
      "\n",
      "The downloaded source packages are in\n",
      "\t‘/private/var/folders/44/z41l8sf111x6k2bjrjbdjhl80000gn/T/RtmpX0OOGB/downloaded_packages’\n"
     ]
    }
   ],
   "source": [
    "install.packages(\"dplyr\",repos='http://cran.us.r-project.org')"
   ]
  },
  {
   "cell_type": "code",
   "execution_count": 32,
   "metadata": {
    "collapsed": false
   },
   "outputs": [
    {
     "name": "stderr",
     "output_type": "stream",
     "text": [
      "Warning message:\n",
      "In readChar(con, 5L, useBytes = TRUE): cannot open compressed file 'samples.Rdata', probable reason 'No such file or directory'"
     ]
    },
    {
     "ename": "ERROR",
     "evalue": "Error in readChar(con, 5L, useBytes = TRUE): cannot open the connection\n",
     "output_type": "error",
     "traceback": [
      "Error in readChar(con, 5L, useBytes = TRUE): cannot open the connection\n"
     ]
    },
    {
     "data": {
      "text/plain": [
       "    genotype         Vcmax          c2n_leaf      cuticular_cond   \n",
       " Min.   : 9915   Min.   :22.43   Min.   : 3.757   Min.   :  303.2  \n",
       " 1st Qu.:10040   1st Qu.:27.99   1st Qu.:20.562   1st Qu.: 2413.0  \n",
       " Median :10164   Median :29.64   Median :29.395   Median : 4462.3  \n",
       " Mean   :10164   Mean   :29.64   Mean   :31.898   Mean   : 6553.0  \n",
       " 3rd Qu.:10289   3rd Qu.:31.25   3rd Qu.:40.656   3rd Qu.: 8031.1  \n",
       " Max.   :10414   Max.   :36.73   Max.   :91.917   Max.   :53419.6  \n",
       "      SLA         quantum_efficiency leaf_respiration_rate_m2 stomatal_slope.BB\n",
       " Min.   : 9.855   Min.   :0.05248    Min.   :0.7624           Min.   :2.581    \n",
       " 1st Qu.:14.925   1st Qu.:0.05960    1st Qu.:1.7851           1st Qu.:2.950    \n",
       " Median :15.243   Median :0.06140    Median :2.0168           Median :3.000    \n",
       " Mean   :15.162   Mean   :0.06139    Mean   :2.0165           Mean   :2.999    \n",
       " 3rd Qu.:15.545   3rd Qu.:0.06327    3rd Qu.:2.2505           3rd Qu.:3.051    \n",
       " Max.   :18.694   Max.   :0.06841    Max.   :2.9900           Max.   :3.266    \n",
       " growth_respiration_coefficient      Jmax            chi_leaf     \n",
       " Min.   :0.2294                 Min.   :  6.551   Min.   :0.3189  \n",
       " 1st Qu.:0.3634                 1st Qu.: 79.622   1st Qu.:0.8823  \n",
       " Median :0.3981                 Median :123.782   Median :1.1895  \n",
       " Mean   :0.3981                 Mean   :130.957   Mean   :1.2803  \n",
       " 3rd Qu.:0.4328                 3rd Qu.:173.899   3rd Qu.:1.5661  \n",
       " Max.   :0.5477                 Max.   :339.228   Max.   :3.0027  \n",
       " extinction_coefficient_diffuse\n",
       " Min.   :0.01883               \n",
       " 1st Qu.:0.06703               \n",
       " Median :0.09856               \n",
       " Mean   :0.11198               \n",
       " 3rd Qu.:0.14323               \n",
       " Max.   :0.32345               "
      ]
     },
     "execution_count": 32,
     "metadata": {},
     "output_type": "execute_result"
    }
   ],
   "source": [
    "\n",
    "load(\"samples.Rdata\")\n",
    "library(knitr)\n",
    "\n",
    "phenotypes <- cbind(genotype = 9914+1:500, \n",
    "                    ensemble.samples$Miscanthus_x_giganteus)\n",
    "\n",
    "summary(phenotypes)\n",
    "\n"
   ]
  },
  {
   "cell_type": "code",
   "execution_count": 19,
   "metadata": {
    "collapsed": true
   },
   "outputs": [],
   "source": [
    "library(data.table)\n",
    "library(lubridate)\n",
    "setwd(\"out/\")\n",
    "files <- data.table(run = 9915:10141)#10482:11048)\n",
    "allout <- list()\n",
    "for(i in 1:length(files$run)){\n",
    "  run <- files$run[i]\n",
    "  \n",
    "  filename = file.path(run, \"biocro_output.RData\")\n",
    "  if(file.exists(filename)){\n",
    "    load(filename)\n",
    "    # Palmer Drought Severity Index for Ohio valley\n",
    "    # http://www.ncdc.noaa.gov/extremes/cei/graph/ce/3/06-08\n",
    "    # 1997 wet\n",
    "    # 1999 dry\n",
    "    # 2000 normal\n",
    "    # 2004 wet\n",
    "    # 2007 dry\n",
    "    if(!is.null(biocro_result)){\n",
    "      .tmp <- cbind(run = run, biocro_result[year %in% c(1997, 1999, 2000, 2004, 2007) & \n",
    "        (lat %in% c(42.625, 42.375, 40.625, 40.375, 37.625, 37.875) & \n",
    "         lon %in% c(-88.625, -88.375)), \n",
    "         list(plot = lat*10000-lon*100,\n",
    "         site = ifelse(lat > 42, 'north', ifelse(lat > 40, 'central', 'south')),\n",
    "         year, date = ymd(paste(year, 01, 01)) + days(doy), Stem, Leaf, Root, Rhizome, tmax, tmin, tavg, precip)])\n",
    "      allout[[i]]  <- cbind(.tmp[,list(sitename = site, plotid = LETTERS[frank(plot, ties.method = 'dense')]), by = 'site'], .tmp)\n",
    "      rm(biocro_result, .tmp)\n",
    "    }\n",
    "    \n",
    "  }\n",
    "}\n",
    "all <- rbindlist(allout)\n",
    "save(all, file = \"sorghum_simulation.RData\")\n",
    "\n"
   ]
  },
  {
   "cell_type": "code",
   "execution_count": 31,
   "metadata": {
    "collapsed": false
   },
   "outputs": [
    {
     "ename": "ERROR",
     "evalue": "Error in `[<-.data.table`(x, j = name, value = value): Cannot use := to add columns to a null data.table (no columns), currently. You can use := to add (empty) columns to a 0-row data.table (1 or more empty columns), though.\n",
     "output_type": "error",
     "traceback": [
      "Error in `[<-.data.table`(x, j = name, value = value): Cannot use := to add columns to a null data.table (no columns), currently. You can use := to add (empty) columns to a 0-row data.table (1 or more empty columns), though.\n"
     ]
    },
    {
     "ename": "ERROR",
     "evalue": "Error in `[<-.data.table`(x, j = name, value = value): Cannot use := to add columns to a null data.table (no columns), currently. You can use := to add (empty) columns to a 0-row data.table (1 or more empty columns), though.\n",
     "output_type": "error",
     "traceback": [
      "Error in `[<-.data.table`(x, j = name, value = value): Cannot use := to add columns to a null data.table (no columns), currently. You can use := to add (empty) columns to a 0-row data.table (1 or more empty columns), though.\n"
     ]
    },
    {
     "ename": "ERROR",
     "evalue": "Error in eval(expr, envir, enclos): object 'Leaf' not found\n",
     "output_type": "error",
     "traceback": [
      "Error in eval(expr, envir, enclos): object 'Leaf' not found\n"
     ]
    },
    {
     "ename": "ERROR",
     "evalue": "Error in eval(expr, envir, enclos): object 'LAI' not found\n",
     "output_type": "error",
     "traceback": [
      "Error in eval(expr, envir, enclos): object 'LAI' not found\n"
     ]
    },
    {
     "ename": "ERROR",
     "evalue": "Error in rnorm(1:length(Stem), Stem/100, Stem/1000): object 'Stem' not found\n",
     "output_type": "error",
     "traceback": [
      "Error in rnorm(1:length(Stem), Stem/100, Stem/1000): object 'Stem' not found\n"
     ]
    },
    {
     "name": "stderr",
     "output_type": "stream",
     "text": [
      "Warning message:\n",
      "In tbl_df(all) %>% mutate(genotype = run, Tmax = round(tmax, 1), : restarting interrupted promise evaluationWarning message:\n",
      "In tbl_df(all) %>% mutate(genotype = run, Tmax = round(tmax, 1), : internal error -3 in R_decompress1"
     ]
    },
    {
     "ename": "ERROR",
     "evalue": "Error in tbl_df(all) %>% mutate(genotype = run, Tmax = round(tmax, 1), : lazy-load database '/anaconda/lib/R/library/magrittr/R/magrittr.rdb' is corrupt\n",
     "output_type": "error",
     "traceback": [
      "Error in tbl_df(all) %>% mutate(genotype = run, Tmax = round(tmax, 1), : lazy-load database '/anaconda/lib/R/library/magrittr/R/magrittr.rdb' is corrupt\n"
     ]
    },
    {
     "name": "stderr",
     "output_type": "stream",
     "text": [
      "Warning message:\n",
      "In sorghum_simulation %>% mutate(year = 2020 + frank(year, ties.method = \"dense\")) %>% : restarting interrupted promise evaluationWarning message:\n",
      "In sorghum_simulation %>% mutate(year = 2020 + frank(year, ties.method = \"dense\")) %>% : internal error -3 in R_decompress1"
     ]
    },
    {
     "ename": "ERROR",
     "evalue": "Error in sorghum_simulation %>% mutate(year = 2020 + frank(year, ties.method = \"dense\")) %>% : lazy-load database '/anaconda/lib/R/library/magrittr/R/magrittr.rdb' is corrupt\n",
     "output_type": "error",
     "traceback": [
      "Error in sorghum_simulation %>% mutate(year = 2020 + frank(year, ties.method = \"dense\")) %>% : lazy-load database '/anaconda/lib/R/library/magrittr/R/magrittr.rdb' is corrupt\n"
     ]
    },
    {
     "ename": "ERROR",
     "evalue": "Error in eval(expr, envir, enclos): object 'sorghum_simulation' not found\n",
     "output_type": "error",
     "traceback": [
      "Error in eval(expr, envir, enclos): object 'sorghum_simulation' not found\n"
     ]
    },
    {
     "name": "stderr",
     "output_type": "stream",
     "text": [
      "Warning message:\n",
      "In sorghum_simulation %>% setDT: restarting interrupted promise evaluationWarning message:\n",
      "In sorghum_simulation %>% setDT: internal error -3 in R_decompress1"
     ]
    },
    {
     "ename": "ERROR",
     "evalue": "Error in sorghum_simulation %>% setDT: lazy-load database '/anaconda/lib/R/library/magrittr/R/magrittr.rdb' is corrupt\n",
     "output_type": "error",
     "traceback": [
      "Error in sorghum_simulation %>% setDT: lazy-load database '/anaconda/lib/R/library/magrittr/R/magrittr.rdb' is corrupt\n"
     ]
    },
    {
     "ename": "ERROR",
     "evalue": "Error in eval(expr, envir, enclos): object 's' not found\n",
     "output_type": "error",
     "traceback": [
      "Error in eval(expr, envir, enclos): object 's' not found\n"
     ]
    },
    {
     "ename": "ERROR",
     "evalue": "Error in is.data.frame(x): object 'sorghum_observations' not found\n",
     "output_type": "error",
     "traceback": [
      "Error in is.data.frame(x): object 'sorghum_observations' not found\n"
     ]
    },
    {
     "ename": "ERROR",
     "evalue": "Error in unique(s[, list(sitename, plotid, date, Tmax, Tmin, Tavg, precipitation)]): object 's' not found\n",
     "output_type": "error",
     "traceback": [
      "Error in unique(s[, list(sitename, plotid, date, Tmax, Tmin, Tavg, precipitation)]): object 's' not found\n"
     ]
    },
    {
     "ename": "ERROR",
     "evalue": "Error in is.data.frame(x): object 'sorghum_met' not found\n",
     "output_type": "error",
     "traceback": [
      "Error in is.data.frame(x): object 'sorghum_met' not found\n"
     ]
    },
    {
     "ename": "ERROR",
     "evalue": "Error in fread(\"~/Downloads/BETYdb Variables - Sheet 1.csv\"): File is empty: /var/folders/44/z41l8sf111x6k2bjrjbdjhl80000gn/T//RtmpX0OOGB/file6c9c71022f09\n",
     "output_type": "error",
     "traceback": [
      "Error in fread(\"~/Downloads/BETYdb Variables - Sheet 1.csv\"): File is empty: /var/folders/44/z41l8sf111x6k2bjrjbdjhl80000gn/T//RtmpX0OOGB/file6c9c71022f09\n"
     ]
    },
    {
     "ename": "ERROR",
     "evalue": "Error in inherits(x, \"list\"): object 'variables' not found\n",
     "output_type": "error",
     "traceback": [
      "Error in inherits(x, \"list\"): object 'variables' not found\n"
     ]
    }
   ],
   "source": [
    "load(\"sorghum_simulation.RData\")\n",
    "library(data.table)\n",
    "library(lubridate)\n",
    "all$plot <- NULL\n",
    "all$site <- NULL\n",
    "set.seed(100)\n",
    "\n",
    "all[, `:=`(LAI = Leaf * (0.66 + runif(1:length(Leaf), -0.01 * Leaf / 10, 0.01*Leaf/10)))]\n",
    "all[, `:=`(NDVI = 0.9 + (-0.66 * 0.76 * exp(-1.1 * LAI + rnorm(1:length(LAI), 0, LAI/100))))]\n",
    "## height proportional to biomass via volume \n",
    "all[, `:=` ( Height = (pi / 3 )*(rnorm(1:length(Stem), Stem/100, Stem/1000) + runif(1:length(Stem), Stem / 1000, 2*Stem / 1000) + Stem * (Stem / 50)^2)^(1/3)-0.02)  ]\n",
    "\n",
    "#save(all, file = \"sorghum_simulation.RData\")\n",
    "#load('sorghum_simulation.RData')\n",
    "\n",
    "library(dplyr)\n",
    "\n",
    "errors <- function(x) {\n",
    "  e1 <- runif(1:length(x), x/1000, x/800)\n",
    "  e2 <- rnorm(1:length(x), 2*log(1+x), sd(x) * x/100)\n",
    "  e3 <- min(e1, e2) + e1 / 1000 + e2 / 1000\n",
    "  e <- e1 * runif(1:length(x)) + e2 * rlnorm(1:length(x), -0.5, 0.1) + e3 * rgamma(1:length(x), 2, 4)\n",
    "  big <- x > 0.01\n",
    "  x[big] <- x[big] + e[big]\n",
    "  x[x < 0.01] <- 0\n",
    "  x <- round(x, 2)\n",
    "  return(x)\n",
    "}\n",
    "\n",
    "errors <- compiler::cmpfun(errors)\n",
    "sorghum_simulation <- tbl_df(all)  %>% \n",
    "  mutate(genotype = run, Tmax = round(tmax,1), Tmin = round(tmin, 1), Tavg = round(tavg, 1), \n",
    "         precipitation = round(precip, 2), \n",
    "         Stem = errors(Stem), Leaf = errors(Leaf), Root = errors(Root), LAI = errors(LAI), \n",
    "         NDVI = errors(NDVI), Height = errors(Height)) %>% \n",
    "  select(-run)\n",
    "\n",
    "sorghum_simulation <- sorghum_simulation %>%\n",
    "  mutate(year = 2020 + frank(year, ties.method = 'dense')) %>% \n",
    "  dplyr::select(-tmax, -tmin, -tavg)\n",
    "\n",
    "year(sorghum_simulation$date) <- sorghum_simulation$year\n",
    "write.csv(phenotypes, 'phenotypes.csv')\n",
    "\n",
    "s <- sorghum_simulation %>% setDT\n",
    "sorghum_observations <- s[,list(sitename, plotid, genotype, date, Stem, Leaf, Root, Rhizome, precip, LAI, NDVI, Height)] \n",
    "\n",
    "write.csv(sorghum_observations, 'observations.csv')\n",
    "\n",
    "sorghum_met <- unique(s[,list(sitename, plotid, date, Tmax, Tmin, Tavg, precipitation)])\n",
    "\n",
    "write.csv(sorghum_met, 'met.csv')\n",
    "#normalized_difference_vegetation_index\n",
    "#leaf area index\n",
    "variables <- fread(\"~/Downloads/BETYdb Variables - Sheet 1.csv\")\n",
    "knitr::kable(variables[Name %in% c(colnames(phenotypes), colnames(sorghum_simulation)), list(variable_id = id, name = Name, standard_name, units = Units, Description)])\n",
    "\n"
   ]
  },
  {
   "cell_type": "code",
   "execution_count": 29,
   "metadata": {
    "collapsed": false
   },
   "outputs": [
    {
     "name": "stderr",
     "output_type": "stream",
     "text": [
      "also installing the dependency ‘reshape’\n",
      "\n"
     ]
    },
    {
     "name": "stdout",
     "output_type": "stream",
     "text": [
      "\n",
      "The downloaded source packages are in\n",
      "\t‘/private/var/folders/44/z41l8sf111x6k2bjrjbdjhl80000gn/T/RtmpX0OOGB/downloaded_packages’\n"
     ]
    }
   ],
   "source": [
    "install.packages(c(\"ggthemes\", \"GGally\"), repos='http://cran.us.r-project.org')"
   ]
  },
  {
   "cell_type": "code",
   "execution_count": 30,
   "metadata": {
    "collapsed": false
   },
   "outputs": [
    {
     "ename": "ERROR",
     "evalue": "Error in fread(\"sorghum_simulation.csv\"): File 'sorghum_simulation.csv' does not exist. Include one or more spaces to consider the input a system command.\n",
     "output_type": "error",
     "traceback": [
      "Error in fread(\"sorghum_simulation.csv\"): File 'sorghum_simulation.csv' does not exist. Include one or more spaces to consider the input a system command.\n"
     ]
    },
    {
     "name": "stderr",
     "output_type": "stream",
     "text": [
      "\n",
      "Attaching package: ‘GGally’\n",
      "\n",
      "The following object is masked from ‘package:dplyr’:\n",
      "\n",
      "    nasa\n",
      "\n",
      "Warning message:\n",
      "In phenotypes %>% dplyr::select(Vcmax, c2n_leaf, cuticular_cond, : restarting interrupted promise evaluationWarning message:\n",
      "In phenotypes %>% dplyr::select(Vcmax, c2n_leaf, cuticular_cond, : internal error -3 in R_decompress1"
     ]
    },
    {
     "ename": "ERROR",
     "evalue": "Error in phenotypes %>% dplyr::select(Vcmax, c2n_leaf, cuticular_cond, : lazy-load database '/anaconda/lib/R/library/magrittr/R/magrittr.rdb' is corrupt\n",
     "output_type": "error",
     "traceback": [
      "Error in phenotypes %>% dplyr::select(Vcmax, c2n_leaf, cuticular_cond, : lazy-load database '/anaconda/lib/R/library/magrittr/R/magrittr.rdb' is corrupt\n"
     ]
    },
    {
     "ename": "ERROR",
     "evalue": "Error in identical(class(data), \"data.frame\"): object 'p' not found\n",
     "output_type": "error",
     "traceback": [
      "Error in identical(class(data), \"data.frame\"): object 'p' not found\n"
     ]
    },
    {
     "name": "stderr",
     "output_type": "stream",
     "text": [
      "Warning message:\n",
      "In sorghum_simulation %>% mutate(Day = yday(date), line = as.factor(paste(\"Sim\", : restarting interrupted promise evaluationWarning message:\n",
      "In sorghum_simulation %>% mutate(Day = yday(date), line = as.factor(paste(\"Sim\", : internal error -3 in R_decompress1"
     ]
    },
    {
     "ename": "ERROR",
     "evalue": "Error in sorghum_simulation %>% mutate(Day = yday(date), line = as.factor(paste(\"Sim\", : lazy-load database '/anaconda/lib/R/library/magrittr/R/magrittr.rdb' is corrupt\n",
     "output_type": "error",
     "traceback": [
      "Error in sorghum_simulation %>% mutate(Day = yday(date), line = as.factor(paste(\"Sim\", : lazy-load database '/anaconda/lib/R/library/magrittr/R/magrittr.rdb' is corrupt\n"
     ]
    },
    {
     "ename": "ERROR",
     "evalue": "Error in eval(expr, envir, enclos): object 's' not found\n",
     "output_type": "error",
     "traceback": [
      "Error in eval(expr, envir, enclos): object 's' not found\n"
     ]
    },
    {
     "ename": "ERROR",
     "evalue": "Error in eval(expr, envir, enclos): object 's' not found\n",
     "output_type": "error",
     "traceback": [
      "Error in eval(expr, envir, enclos): object 's' not found\n"
     ]
    },
    {
     "ename": "ERROR",
     "evalue": "Error in fortify(data): object 's' not found\n",
     "output_type": "error",
     "traceback": [
      "Error in fortify(data): object 's' not found\n"
     ]
    }
   ],
   "source": [
    "### ---- end part\n",
    "library(data.table)\n",
    "library(dplyr)\n",
    "\n",
    "phenotypes <- fread(\"phenotypes.csv\")\n",
    "sorghum_simulation <- fread(\"sorghum_simulation.csv\")\n",
    "library(ggplot2)\n",
    "library(ggthemes)\n",
    "library(GGally)\n",
    "theme_set(theme_tufte())\n",
    "\n",
    "p <- phenotypes %>% dplyr::select(Vcmax, c2n_leaf, cuticular_cond, SLA, quantum_efficiency,\n",
    "                                  leaf_respiration_rate_m2, stomatal_slope.BB, growth_respiration_coefficient,\n",
    "                                  Jmax, chi_leaf, extinction_coefficient_diffuse) %>% setDT\n",
    "\n",
    "ggpairs(p,  \n",
    "        lower = list(continuous = 'density'),\n",
    "        upper = list(continuous = 'blank'),\n",
    "        axisLabels = 'internal')\n",
    "s <- sorghum_simulation %>% \n",
    "  mutate(Day = yday(date), \n",
    "         line = as.factor(paste('Sim', genotype)),\n",
    "         Biomass = Stem + Leaf) %>% setDT\n",
    "\n",
    "## figure out best / worst\n",
    "s[year == 2023][which.max(Stem)]\n",
    "s[year == 2023 & month(date) == 10][which.min(Stem)]\n",
    "theme_set(theme_tufte()) \n",
    "ggplot() + \n",
    "  geom_smooth(data = s[genotype >9950 & genotype < 10000],\n",
    "              aes(x = Day, y = Biomass, fill = NULL, group = genotype), alpha = 0.1, color = 'grey') +\n",
    "  geom_smooth(data = s[genotype == 10020],\n",
    "              aes(x = Day, y = Biomass), color = 'darkgreen') +\n",
    "  geom_smooth(data = s[genotype == 9934],\n",
    "              aes(x = Day, y = Biomass), color = 'red') +\n",
    "  facet_wrap(~year, nrow = 1) "
   ]
  },
  {
   "cell_type": "code",
   "execution_count": 25,
   "metadata": {
    "collapsed": false
   },
   "outputs": [
    {
     "data": {
      "text/html": [
       "<ol class=list-inline>\n",
       "\t<li>'phenotypes.csv'</li>\n",
       "\t<li>'sorghum_simulation.RData'</li>\n",
       "</ol>\n"
      ],
      "text/latex": [
       "\\begin{enumerate*}\n",
       "\\item 'phenotypes.csv'\n",
       "\\item 'sorghum_simulation.RData'\n",
       "\\end{enumerate*}\n"
      ],
      "text/markdown": [
       "1. 'phenotypes.csv'\n",
       "2. 'sorghum_simulation.RData'\n",
       "\n",
       "\n"
      ],
      "text/plain": [
       "[1] \"phenotypes.csv\"           \"sorghum_simulation.RData\""
      ]
     },
     "execution_count": 25,
     "metadata": {},
     "output_type": "execute_result"
    }
   ],
   "source": [
    "list.files()"
   ]
  },
  {
   "cell_type": "code",
   "execution_count": 22,
   "metadata": {
    "collapsed": false
   },
   "outputs": [
    {
     "name": "stderr",
     "output_type": "stream",
     "text": [
      "Warning message:\n",
      "In sorghum_simulation %>% mutate(Day = yday(date), line = as.factor(paste(\"Sim\", : restarting interrupted promise evaluationWarning message:\n",
      "In sorghum_simulation %>% mutate(Day = yday(date), line = as.factor(paste(\"Sim\", : internal error -3 in R_decompress1"
     ]
    },
    {
     "ename": "ERROR",
     "evalue": "Error in sorghum_simulation %>% mutate(Day = yday(date), line = as.factor(paste(\"Sim\", : lazy-load database '/anaconda/lib/R/library/magrittr/R/magrittr.rdb' is corrupt\n",
     "output_type": "error",
     "traceback": [
      "Error in sorghum_simulation %>% mutate(Day = yday(date), line = as.factor(paste(\"Sim\", : lazy-load database '/anaconda/lib/R/library/magrittr/R/magrittr.rdb' is corrupt\n"
     ]
    },
    {
     "ename": "ERROR",
     "evalue": "Error in eval(expr, envir, enclos): object 's' not found\n",
     "output_type": "error",
     "traceback": [
      "Error in eval(expr, envir, enclos): object 's' not found\n"
     ]
    },
    {
     "ename": "ERROR",
     "evalue": "Error in eval(expr, envir, enclos): object 's' not found\n",
     "output_type": "error",
     "traceback": [
      "Error in eval(expr, envir, enclos): object 's' not found\n"
     ]
    },
    {
     "ename": "ERROR",
     "evalue": "Error in as.vector(y): could not find function \"theme_tufte\"\n",
     "output_type": "error",
     "traceback": [
      "Error in as.vector(y): could not find function \"theme_tufte\"\n"
     ]
    },
    {
     "ename": "ERROR",
     "evalue": "Error in fortify(data): object 's' not found\n",
     "output_type": "error",
     "traceback": [
      "Error in fortify(data): object 's' not found\n"
     ]
    }
   ],
   "source": []
  },
  {
   "cell_type": "code",
   "execution_count": null,
   "metadata": {
    "collapsed": true
   },
   "outputs": [],
   "source": []
  }
 ],
 "metadata": {
  "kernelspec": {
   "display_name": "R",
   "language": "R",
   "name": "ir"
  },
  "language_info": {
   "codemirror_mode": "r",
   "file_extension": ".r",
   "mimetype": "text/x-r-source",
   "name": "R",
   "pygments_lexer": "r",
   "version": "3.2.2"
  }
 },
 "nbformat": 4,
 "nbformat_minor": 0
}
