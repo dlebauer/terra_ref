{
 "cells": [
  {
   "cell_type": "markdown",
   "metadata": {},
   "source": [
    "## Simulation Study for TerraRef."
   ]
  },
  {
   "cell_type": "code",
   "execution_count": 1,
   "metadata": {
    "collapsed": false
   },
   "outputs": [
    {
     "data": {
      "text/html": [
       "'/Users/kylepayne/Desktop/terra_ref'"
      ],
      "text/latex": [
       "'/Users/kylepayne/Desktop/terra_ref'"
      ],
      "text/markdown": [
       "'/Users/kylepayne/Desktop/terra_ref'"
      ],
      "text/plain": [
       "[1] \"/Users/kylepayne/Desktop/terra_ref\""
      ]
     },
     "execution_count": 1,
     "metadata": {},
     "output_type": "execute_result"
    }
   ],
   "source": [
    "getwd()"
   ]
  },
  {
   "cell_type": "code",
   "execution_count": 4,
   "metadata": {
    "collapsed": true
   },
   "outputs": [],
   "source": [
    "load(\"samples.Rdata\")"
   ]
  },
  {
   "cell_type": "code",
   "execution_count": 9,
   "metadata": {
    "collapsed": false
   },
   "outputs": [
    {
     "data": {
      "text/html": [
       "<ol class=list-inline>\n",
       "\t<li>'annual.result'</li>\n",
       "\t<li>'e'</li>\n",
       "\t<li>'ensemble.samples'</li>\n",
       "\t<li>'pft.names'</li>\n",
       "\t<li>'runs.samples'</li>\n",
       "\t<li>'sa.samples'</li>\n",
       "\t<li>'trait.names'</li>\n",
       "\t<li>'trait.samples'</li>\n",
       "</ol>\n"
      ],
      "text/latex": [
       "\\begin{enumerate*}\n",
       "\\item 'annual.result'\n",
       "\\item 'e'\n",
       "\\item 'ensemble.samples'\n",
       "\\item 'pft.names'\n",
       "\\item 'runs.samples'\n",
       "\\item 'sa.samples'\n",
       "\\item 'trait.names'\n",
       "\\item 'trait.samples'\n",
       "\\end{enumerate*}\n"
      ],
      "text/markdown": [
       "1. 'annual.result'\n",
       "2. 'e'\n",
       "3. 'ensemble.samples'\n",
       "4. 'pft.names'\n",
       "5. 'runs.samples'\n",
       "6. 'sa.samples'\n",
       "7. 'trait.names'\n",
       "8. 'trait.samples'\n",
       "\n",
       "\n"
      ],
      "text/plain": [
       "[1] \"annual.result\"    \"e\"                \"ensemble.samples\" \"pft.names\"       \n",
       "[5] \"runs.samples\"     \"sa.samples\"       \"trait.names\"      \"trait.samples\"   "
      ]
     },
     "execution_count": 9,
     "metadata": {},
     "output_type": "execute_result"
    }
   ],
   "source": [
    "ls(globalenv())"
   ]
  },
  {
   "cell_type": "code",
   "execution_count": null,
   "metadata": {
    "collapsed": true
   },
   "outputs": [],
   "source": []
  },
  {
   "cell_type": "code",
   "execution_count": null,
   "metadata": {
    "collapsed": true
   },
   "outputs": [],
   "source": []
  }
 ],
 "metadata": {
  "kernelspec": {
   "display_name": "R",
   "language": "R",
   "name": "ir"
  },
  "language_info": {
   "codemirror_mode": "r",
   "file_extension": ".r",
   "mimetype": "text/x-r-source",
   "name": "R",
   "pygments_lexer": "r",
   "version": "3.2.2"
  }
 },
 "nbformat": 4,
 "nbformat_minor": 0
}
